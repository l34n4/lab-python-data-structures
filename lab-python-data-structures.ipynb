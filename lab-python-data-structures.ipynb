{
 "cells": [
  {
   "cell_type": "markdown",
   "metadata": {
    "tags": []
   },
   "source": [
    "# Lab | Data Structures "
   ]
  },
  {
   "cell_type": "markdown",
   "metadata": {},
   "source": [
    "## Exercise: Managing Customer Orders\n",
    "\n",
    "As part of a business venture, you are starting an online store that sells various products. To ensure smooth operations, you need to develop a program that manages customer orders and inventory.\n",
    "\n",
    "Follow the steps below to complete the exercise:\n",
    "\n",
    "1. Define a list called `products` that contains the following items: \"t-shirt\", \"mug\", \"hat\", \"book\", \"keychain\".\n",
    "\n",
    "2. Create an empty dictionary called `inventory`.\n",
    "\n",
    "3. Ask the user to input the quantity of each product available in the inventory. Use the product names from the `products` list as keys in the `inventory` dictionary and assign the respective quantities as values.\n",
    "\n",
    "4. Create an empty set called `customer_orders`.\n",
    "\n",
    "5. Ask the user to input the name of three products that a customer wants to order (from those in the products list, meaning three products out of \"t-shirt\", \"mug\", \"hat\", \"book\" or \"keychain\". Add each product name to the `customer_orders` set.\n",
    "\n",
    "6. Print the products in the `customer_orders` set.\n",
    "\n",
    "7. Calculate the following order statistics:\n",
    "   - Total Products Ordered: The total number of products in the `customer_orders` set.\n",
    "   - Percentage of Products Ordered: The percentage of products ordered compared to the total available products.\n",
    "   \n",
    "   Store these statistics in a tuple called `order_status`.\n",
    "\n",
    "8. Print the order statistics using the following format:\n",
    "   ```\n",
    "   Order Statistics:\n",
    "   Total Products Ordered: <total_products_ordered>\n",
    "   Percentage of Products Ordered: <percentage_ordered>% \n",
    "   ```\n",
    "\n",
    "9. Update the inventory by subtracting 1 from the quantity of each product. Modify the `inventory` dictionary accordingly.\n",
    "\n",
    "10. Print the updated inventory, displaying the quantity of each product on separate lines.\n",
    "\n",
    "Solve the exercise by implementing the steps using the Python concepts of lists, dictionaries, sets, and basic input/output operations. "
   ]
  },
  {
   "cell_type": "code",
   "execution_count": 45,
   "metadata": {},
   "outputs": [
    {
     "name": "stdout",
     "output_type": "stream",
     "text": [
      "{'hat', 'mug'}\n",
      "\n",
      "        Order Statistics:\n",
      "        Total Products Ordered: <2>\n",
      "        Percentage of Products Ordered:<8.0>%\n",
      "t-shirt: 4\n",
      "mug: 4\n",
      "hat: 4\n",
      "book: 4\n",
      "keychain: 4\n"
     ]
    }
   ],
   "source": [
    "# 1) Define the list of products\n",
    "products = [\"t-shirt\", \"mug\", \"hat\", \"book\", \"keychain\"]\n",
    "\n",
    "# 2) Empty dictionary (inventory)\n",
    "inventory={}\n",
    "\n",
    "# 3 ) input quantity  for each product \n",
    "for product in products :\n",
    "        quantity = int(input(\"Enter the number of \"+ product +\" available in the inventory : \" ))\n",
    "# Associer les quantités et les produits dans l'inventaire \n",
    "        inventory[product]= quantity\n",
    "\n",
    "# 4) customer orders set \n",
    "customer_orders = set()\n",
    "\n",
    "# 5) user input  \n",
    "#this one was the most difficult \n",
    "# i am not sure to understand the question 3 different product was supposed to be enter ? \n",
    "#or 3 products that can be repeat ? \n",
    "for word in range(3):\n",
    "    order = input(f\"Enter a product you want to order ({', '.join(products)}): \").lower()\n",
    "    while order not in products:\n",
    "        print(\"Product not found. Please choose from the available products.\")\n",
    "        order = input(f\"Enter a product you want to order ({', '.join(products)}): \").lower()\n",
    "    customer_orders.add(order)\n",
    "\n",
    "#6) print customer order set \n",
    "print(customer_orders)\n",
    "\n",
    "\n",
    "#7) Statistique \n",
    "# total of number of differents products ordered  \n",
    "total_products_ordered= len(customer_orders) \n",
    "# percentage ordered and available \n",
    "percentage_ordered = (total_products_ordered/sum(inventory.values()))*100\n",
    "# putting it in a tupple\n",
    "order_status = (total_products_ordered,percentage_ordered)\n",
    "\n",
    "#8) print with style \n",
    "print(\"\\n        Order Statistics:\")\n",
    "print(f\"        Total Products Ordered: <{total_products_ordered}>\")\n",
    "print(f\"        Percentage of Products Ordered:<{percentage_ordered}>%\")\n",
    "\n",
    "#9) subtracting 1 to each product \n",
    "for product in inventory:\n",
    "    inventory[product] -= 1\n",
    "\n",
    "#10) print value and key  \n",
    "for product, quantity in inventory.items():\n",
    "         print(f\"{product}: {quantity}\")\n"
   ]
  },
  {
   "cell_type": "code",
   "execution_count": null,
   "metadata": {},
   "outputs": [],
   "source": [
    "5) bis \n",
    "while len(customer_orders) < 3:\n",
    "    # The product needs to be in the list\n",
    "    order = input(\"Enter the product in the list that the customer wants to order. Reminder: \" + \", \".join(products)).lower()\n",
    "    # Check and add to the set\n",
    "    if order in products:\n",
    "        customer_orders.add(order)\n",
    "    else:\n",
    "        print(\"Product not found. Please choose from the available products.\")\n"
   ]
  }
 ],
 "metadata": {
  "kernelspec": {
   "display_name": "Python 3 (ipykernel)",
   "language": "python",
   "name": "python3"
  },
  "language_info": {
   "codemirror_mode": {
    "name": "ipython",
    "version": 3
   },
   "file_extension": ".py",
   "mimetype": "text/x-python",
   "name": "python",
   "nbconvert_exporter": "python",
   "pygments_lexer": "ipython3",
   "version": "3.12.1"
  }
 },
 "nbformat": 4,
 "nbformat_minor": 4
}
